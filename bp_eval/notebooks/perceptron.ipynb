{
 "cells": [
  {
   "cell_type": "code",
   "execution_count": 1,
   "metadata": {},
   "outputs": [],
   "source": [
    "from bpredict import *\n",
    "import numpy as np"
   ]
  },
  {
   "cell_type": "code",
   "execution_count": 2,
   "metadata": {},
   "outputs": [],
   "source": [
    "class Perceptron(object):\n",
    "    \"\"\"A basic implementation of a perceptron.\"\"\"\n",
    "    def __init__(self, length, threshold=1.0):\n",
    "        self._weights = np.zeros(length + 1)\n",
    "        self._weights[0] = 1.0\n",
    "        self._threshold = threshold\n",
    "\n",
    "    def predict(self, history):\n",
    "        \"\"\"Get a prediction based on the history.\"\"\"\n",
    "        hist = np.concatenate(([1], history))\n",
    "        return np.dot(self._weights, hist) >= 0\n",
    "\n",
    "    def update(self, history, taken):\n",
    "        \"\"\"Update the perceptron once the output of a branch is known.\n",
    "        :param taken: -1 if the branch was not taken and 1 if it was taken.\n",
    "        \"\"\"\n",
    "        hist = np.concatenate(([1], history))\n",
    "        y = np.dot(self._weights, hist)\n",
    "        if np.sign(y) != np.sign(taken) or abs(y) < self._threshold:\n",
    "            self._weights += taken * hist"
   ]
  },
  {
   "cell_type": "code",
   "execution_count": 3,
   "metadata": {},
   "outputs": [],
   "source": [
    "class PerceptronPredictor(BasePredictor):\n",
    "    \"\"\"A perceptron predictor that ignores speculative execution.\"\"\"\n",
    "    def __init__(self, nperceptrons, histlength, threshold=1.0):\n",
    "        super(PerceptronPredictor, self).__init__()\n",
    "        self._nperceptrons = nperceptrons\n",
    "        self._histlength = histlength\n",
    "        self._globalhistory = np.zeros(histlength)\n",
    "\n",
    "        self._table = [Perceptron(histlength, threshold=threshold) for _ in range(nperceptrons)]\n",
    "\n",
    "    def lookup(self, tid, branch_addr, bp_history):\n",
    "        index = self._get_index(branch_addr)\n",
    "        return self._table[index].predict(self._globalhistory)\n",
    "\n",
    "    def update(self, tid, branch_addr, taken, bp_history, squashed):\n",
    "        if squashed:\n",
    "            return\n",
    "\n",
    "        index = self._get_index(branch_addr)\n",
    "        t = 1 if taken else -1\n",
    "        self._table[index].update(self._globalhistory, t)\n",
    "        \n",
    "        self._globalhistory = np.roll(self._globalhistory, -1)\n",
    "        self._globalhistory[-1] = t\n",
    "\n",
    "    def _get_index(self, branch_addr):\n",
    "        return ((branch_addr // 4) % len(self._table))"
   ]
  },
  {
   "cell_type": "code",
   "execution_count": 9,
   "metadata": {},
   "outputs": [],
   "source": [
    "benchmark = '../benchmarks/picosat/picosat'\n",
    "args = ('../benchmarks/picosat/inputs/uuf50-01.cnf', )\n",
    "\n",
    "#benchmark = '../benchmarks/blackscholes/blackscholes'\n",
    "#args = (1, '../benchmarks/blackscholes/inputs/tiny.input', '/dev/null')\n",
    "\n",
    "#benchmark = '../benchmarks/sha256sum/sha256sum.alpha'\n",
    "#args = ('../benchmarks/sha256sum/small.bin', )\n",
    "\n",
    "#benchmark = '../benchmarks/streamcluster/streamcluster'\n",
    "#args = (10, 20, 3, 100, 100, 100, '/dev/zero', '/dev/null', 1)"
   ]
  },
  {
   "cell_type": "code",
   "execution_count": 11,
   "metadata": {},
   "outputs": [
    {
     "name": "stdout",
     "output_type": "stream",
     "text": [
      "Misprediction rate: 0.042518\n",
      "Misprediction rate: 0.039980\n",
      "Misprediction rate: 0.040051\n",
      "Misprediction rate: 0.039773\n"
     ]
    }
   ],
   "source": [
    "perc_pred = PerceptronPredictor(nperceptrons=256, histlength=32, threshold=48)\n",
    "\n",
    "for _ in range(4):\n",
    "    perc_runner = ExternalRunner(perc_pred, benchmark, args=args)\n",
    "    perc_runner.run()\n",
    "\n",
    "    predicted = perc_runner.stats[0].find('condPredicted')[0].values[0]\n",
    "    incorrect = perc_runner.stats[0].find('condIncorrect')[0].values[0]\n",
    "\n",
    "    print('Misprediction rate: %f' % (incorrect / predicted))"
   ]
  },
  {
   "cell_type": "code",
   "execution_count": 12,
   "metadata": {},
   "outputs": [
    {
     "name": "stdout",
     "output_type": "stream",
     "text": [
      "Misprediction rate: 0.066731\n"
     ]
    }
   ],
   "source": [
    "local_pred = Local2BitPredictor(8192)\n",
    "\n",
    "local_runner = ExternalRunner(local_pred, benchmark, args=args)\n",
    "local_runner.run()\n",
    "\n",
    "predicted = local_runner.stats[0].find('condPredicted')[0].values[0]\n",
    "incorrect = local_runner.stats[0].find('condIncorrect')[0].values[0]\n",
    "\n",
    "print('Misprediction rate: %f' % (incorrect / predicted))"
   ]
  },
  {
   "cell_type": "code",
   "execution_count": null,
   "metadata": {},
   "outputs": [],
   "source": []
  }
 ],
 "metadata": {
  "kernelspec": {
   "display_name": "Python 3",
   "language": "python",
   "name": "python3"
  },
  "language_info": {
   "codemirror_mode": {
    "name": "ipython",
    "version": 3
   },
   "file_extension": ".py",
   "mimetype": "text/x-python",
   "name": "python",
   "nbconvert_exporter": "python",
   "pygments_lexer": "ipython3",
   "version": "3.7.1"
  }
 },
 "nbformat": 4,
 "nbformat_minor": 2
}
