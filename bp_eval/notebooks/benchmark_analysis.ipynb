{
 "cells": [
  {
   "cell_type": "code",
   "execution_count": 1,
   "metadata": {},
   "outputs": [],
   "source": [
    "from bpredict import *\n",
    "import numpy as np\n",
    "import matplotlib.pyplot as plt\n",
    "import pickle"
   ]
  },
  {
   "cell_type": "markdown",
   "metadata": {},
   "source": [
    "# blackscholes"
   ]
  },
  {
   "cell_type": "code",
   "execution_count": 10,
   "metadata": {},
   "outputs": [],
   "source": [
    "benchmark = '../benchmarks/blackscholes/blackscholes'\n",
    "args = (1, '../benchmarks/blackscholes/inputs/small.input', '/dev/null')\n",
    "\n",
    "blackscholes_pred = BasePredictor(record_trace=True)\n",
    "blackscholes_runner = ExternalRunner(blackscholes_pred, benchmark, args=args, maxinsts=10**8)\n",
    "blackscholes_runner.run()"
   ]
  },
  {
   "cell_type": "code",
   "execution_count": 11,
   "metadata": {},
   "outputs": [
    {
     "name": "stdout",
     "output_type": "stream",
     "text": [
      "[Entry(name='sim_insts', values=(100000001,), description='Number of instructions simulated')]\n"
     ]
    }
   ],
   "source": [
    "if 'blackscholes_runner' and 'blackscholes_pred' in locals():\n",
    "    print(blackscholes_runner.stats[0].find('sim_insts'))\n",
    "    with open('blackscholes_trace.pickle', 'wb') as fp:\n",
    "        pickle.dump(blackscholes_pred.trace, fp)\n",
    "        blackscholes_trace = blackscholes_pred.trace\n",
    "else:\n",
    "    with open('blackscholes_trace.pickle', 'rb') as fp:\n",
    "        blackscholes_trace = pickle.load(fp)"
   ]
  },
  {
   "cell_type": "markdown",
   "metadata": {},
   "source": [
    "# PicoSAT"
   ]
  },
  {
   "cell_type": "code",
   "execution_count": 4,
   "metadata": {},
   "outputs": [],
   "source": [
    "benchmark = '../benchmarks/picosat/picosat'\n",
    "args = ('../benchmarks/picosat/inputs/uuf200-01.cnf', )\n",
    "\n",
    "picosat_pred = BasePredictor(record_trace=True)\n",
    "picosat_runner = ExternalRunner(picosat_pred, benchmark, args=args, maxinsts=10**8)\n",
    "picosat_runner.run()"
   ]
  },
  {
   "cell_type": "code",
   "execution_count": 6,
   "metadata": {},
   "outputs": [
    {
     "name": "stdout",
     "output_type": "stream",
     "text": [
      "[Entry(name='sim_insts', values=(100000001,), description='Number of instructions simulated')]\n"
     ]
    }
   ],
   "source": [
    "if 'picosat_runner' and 'picosat_pred' in locals():\n",
    "    print(picosat_runner.stats[0].find('sim_insts'))\n",
    "    with open('picosat_trace.pickle', 'wb') as fp:\n",
    "        pickle.dump(picosat_pred.trace, fp)\n",
    "        picosat_trace = picosat_pred.trace\n",
    "else:\n",
    "    with open('picosat_trace.pickle', 'rb') as fp:\n",
    "        picosat_trace = pickle.load(fp)"
   ]
  },
  {
   "cell_type": "markdown",
   "metadata": {},
   "source": [
    "# Sjeng"
   ]
  },
  {
   "cell_type": "code",
   "execution_count": 2,
   "metadata": {},
   "outputs": [],
   "source": [
    "benchmark = '../benchmarks/sjeng/sjeng'\n",
    "stdin = '\\n'.join([\n",
    "    'sd 8',\n",
    "    'setboard 3r2k1/3n1ppp/p1p1b3/1nN1p3/2p1P3/Pr2BPP1/1P5P/3RRBK1 b - - 10 20',\n",
    "    'quit'\n",
    "])\n",
    "\n",
    "sjeng_pred = BasePredictor(record_trace=True)\n",
    "sjeng_runner = ExternalRunner(sjeng_pred, benchmark, stdin=stdin, maxinsts=10**8)\n",
    "sjeng_runner.run()"
   ]
  },
  {
   "cell_type": "code",
   "execution_count": 3,
   "metadata": {},
   "outputs": [],
   "source": [
    "if 'sjeng_runner' and 'sjeng_pred' in locals():\n",
    "    print(sjeng_runner.stats[0].find('sim_insts'))\n",
    "    with open('sjeng_trace.pickle', 'wb') as fp:\n",
    "        pickle.dump(sjeng_pred.trace, fp)\n",
    "        sjeng_trace = sjeng_pred.trace\n",
    "else:\n",
    "    with open('sjeng_trace.pickle', 'rb') as fp:\n",
    "        sjeng_trace = pickle.load(fp)"
   ]
  },
  {
   "cell_type": "code",
   "execution_count": null,
   "metadata": {},
   "outputs": [],
   "source": []
  }
 ],
 "metadata": {
  "kernelspec": {
   "display_name": "Python 3",
   "language": "python",
   "name": "python3"
  },
  "language_info": {
   "codemirror_mode": {
    "name": "ipython",
    "version": 3
   },
   "file_extension": ".py",
   "mimetype": "text/x-python",
   "name": "python",
   "nbconvert_exporter": "python",
   "pygments_lexer": "ipython3",
   "version": "3.7.1"
  }
 },
 "nbformat": 4,
 "nbformat_minor": 2
}
