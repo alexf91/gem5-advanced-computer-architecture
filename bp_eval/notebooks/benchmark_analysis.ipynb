{
 "cells": [
  {
   "cell_type": "code",
   "execution_count": 1,
   "metadata": {},
   "outputs": [],
   "source": [
    "from bpredict import *\n",
    "import numpy as np\n",
    "import matplotlib.pyplot as plt\n",
    "import pickle\n",
    "\n",
    "import pylab\n",
    "pylab.rcParams['figure.figsize'] = (10, 6)"
   ]
  },
  {
   "cell_type": "markdown",
   "metadata": {},
   "source": [
    "# blackscholes"
   ]
  },
  {
   "cell_type": "code",
   "execution_count": null,
   "metadata": {},
   "outputs": [],
   "source": [
    "benchmark = '../benchmarks/blackscholes/blackscholes'\n",
    "args = (1, '../benchmarks/blackscholes/inputs/small.input', '/dev/null')\n",
    "\n",
    "blackscholes_pred = BasePredictor(record_trace=True)\n",
    "blackscholes_runner = ExternalRunner(blackscholes_pred, benchmark, args=args, maxinsts=10**8)\n",
    "blackscholes_runner.run()"
   ]
  },
  {
   "cell_type": "code",
   "execution_count": 2,
   "metadata": {},
   "outputs": [],
   "source": [
    "if 'blackscholes_runner' and 'blackscholes_pred' in locals():\n",
    "    print(blackscholes_runner.stats[0].find('sim_insts'))\n",
    "    with open('blackscholes_trace.pickle', 'wb') as fp:\n",
    "        pickle.dump(blackscholes_pred.trace, fp)\n",
    "        blackscholes_trace = blackscholes_pred.trace\n",
    "else:\n",
    "    with open('blackscholes_trace.pickle', 'rb') as fp:\n",
    "        blackscholes_trace = pickle.load(fp)"
   ]
  },
  {
   "cell_type": "markdown",
   "metadata": {},
   "source": [
    "# PicoSAT"
   ]
  },
  {
   "cell_type": "code",
   "execution_count": null,
   "metadata": {},
   "outputs": [],
   "source": [
    "benchmark = '../benchmarks/picosat/picosat'\n",
    "args = ('../benchmarks/picosat/inputs/uuf200-01.cnf', )\n",
    "\n",
    "picosat_pred = BasePredictor(record_trace=True)\n",
    "picosat_runner = ExternalRunner(picosat_pred, benchmark, args=args, maxinsts=10**8)\n",
    "picosat_runner.run()"
   ]
  },
  {
   "cell_type": "code",
   "execution_count": 3,
   "metadata": {},
   "outputs": [],
   "source": [
    "if 'picosat_runner' and 'picosat_pred' in locals():\n",
    "    print(picosat_runner.stats[0].find('sim_insts'))\n",
    "    with open('picosat_trace.pickle', 'wb') as fp:\n",
    "        pickle.dump(picosat_pred.trace, fp)\n",
    "        picosat_trace = picosat_pred.trace\n",
    "else:\n",
    "    with open('picosat_trace.pickle', 'rb') as fp:\n",
    "        picosat_trace = pickle.load(fp)"
   ]
  },
  {
   "cell_type": "markdown",
   "metadata": {},
   "source": [
    "# Sjeng"
   ]
  },
  {
   "cell_type": "code",
   "execution_count": null,
   "metadata": {},
   "outputs": [],
   "source": [
    "benchmark = '../benchmarks/sjeng/sjeng'\n",
    "stdin = '\\n'.join([\n",
    "    'sd 8',\n",
    "    'setboard 3r2k1/3n1ppp/p1p1b3/1nN1p3/2p1P3/Pr2BPP1/1P5P/3RRBK1 b - - 10 20',\n",
    "    'quit'\n",
    "])\n",
    "\n",
    "sjeng_pred = BasePredictor(record_trace=True)\n",
    "sjeng_runner = ExternalRunner(sjeng_pred, benchmark, stdin=stdin, maxinsts=10**8)\n",
    "sjeng_runner.run()"
   ]
  },
  {
   "cell_type": "code",
   "execution_count": 4,
   "metadata": {},
   "outputs": [],
   "source": [
    "if 'sjeng_runner' and 'sjeng_pred' in locals():\n",
    "    print(sjeng_runner.stats[0].find('sim_insts'))\n",
    "    with open('sjeng_trace.pickle', 'wb') as fp:\n",
    "        pickle.dump(sjeng_pred.trace, fp)\n",
    "        sjeng_trace = sjeng_pred.trace\n",
    "else:\n",
    "    with open('sjeng_trace.pickle', 'rb') as fp:\n",
    "        sjeng_trace = pickle.load(fp)"
   ]
  },
  {
   "cell_type": "markdown",
   "metadata": {},
   "source": [
    "# Analysis"
   ]
  },
  {
   "cell_type": "code",
   "execution_count": 5,
   "metadata": {},
   "outputs": [],
   "source": [
    "def get_branch_histories(trace):\n",
    "    histories = dict()\n",
    "    for addr, taken in trace:\n",
    "        if addr not in histories:\n",
    "            histories[addr] = []\n",
    "        histories[addr].append(taken)\n",
    "    return sorted(map(np.array, histories.values()), key=len, reverse=True)"
   ]
  },
  {
   "cell_type": "code",
   "execution_count": 6,
   "metadata": {},
   "outputs": [],
   "source": [
    "def plot_histograms(histories):\n",
    "    branch_frequencies = list(map(len, histories))\n",
    "    max_frequency = max(branch_frequencies)\n",
    "    min_binsize = 10\n",
    "    nbins = (np.ceil(np.log10(max_frequency)) - np.log10(min_binsize)) * 2 + 1\n",
    "    bins = np.concatenate(([0], min_binsize * (10**(1/2))**np.arange(nbins)))\n",
    "\n",
    "    hist, bins = np.histogram(branch_frequencies, bins=bins)\n",
    "\n",
    "    plt.bar(np.arange(len(hist)), hist / sum(hist) * 100, width=-0.5, align='edge')\n",
    "    plt.xticks(np.arange(len(hist)), map(int, bins[1:]))\n",
    "    plt.title('Branch Frequency')\n",
    "    plt.xlabel('#Times executed')\n",
    "    plt.ylabel('% Instructions')\n",
    "    plt.show()\n",
    "\n",
    "    biases = list(map(lambda h: sum(h) / len(h), histories))\n",
    "    hist, bins = np.histogram(biases, bins=np.linspace(0, 1, 20))\n",
    "\n",
    "    plt.bar(bins[1:], hist / sum(hist) * 100, width=0.05)\n",
    "    plt.title('Bias Distribution')\n",
    "    plt.xlabel('Bias')\n",
    "    plt.ylabel('% Instructions')\n",
    "    plt.show()"
   ]
  },
  {
   "cell_type": "code",
   "execution_count": null,
   "metadata": {},
   "outputs": [],
   "source": []
  },
  {
   "cell_type": "code",
   "execution_count": 7,
   "metadata": {},
   "outputs": [],
   "source": [
    "sjeng_histories = get_branch_histories(sjeng_trace)"
   ]
  },
  {
   "cell_type": "code",
   "execution_count": 8,
   "metadata": {},
   "outputs": [
    {
     "data": {
      "image/png": "[encoded data removed]",
      "text/plain": [
       "<Figure size 432x288 with 1 Axes>"
      ]
     },
     "metadata": {
      "needs_background": "light"
     },
     "output_type": "display_data"
    },
    {
     "data": {
      "image/png": "[encoded data removed]",
      "text/plain": [
       "<Figure size 432x288 with 1 Axes>"
      ]
     },
     "metadata": {
      "needs_background": "light"
     },
     "output_type": "display_data"
    }
   ],
   "source": [
    "plot_histograms(sjeng_histories)"
   ]
  },
  {
   "cell_type": "code",
   "execution_count": 9,
   "metadata": {},
   "outputs": [],
   "source": [
    "picosat_histories = get_branch_histories(picosat_trace)"
   ]
  },
  {
   "cell_type": "code",
   "execution_count": 10,
   "metadata": {},
   "outputs": [
    {
     "data": {
      "image/png": "[encoded data removed]",
      "text/plain": [
       "<Figure size 432x288 with 1 Axes>"
      ]
     },
     "metadata": {
      "needs_background": "light"
     },
     "output_type": "display_data"
    },
    {
     "data": {
      "image/png": "[encoded data removed]",
      "text/plain": [
       "<Figure size 432x288 with 1 Axes>"
      ]
     },
     "metadata": {
      "needs_background": "light"
     },
     "output_type": "display_data"
    }
   ],
   "source": [
    "plot_histograms(picosat_histories)"
   ]
  },
  {
   "cell_type": "code",
   "execution_count": 11,
   "metadata": {},
   "outputs": [],
   "source": [
    "blackscholes_histories = get_branch_histories(blackscholes_trace)"
   ]
  },
  {
   "cell_type": "code",
   "execution_count": 12,
   "metadata": {},
   "outputs": [
    {
     "data": {
      "image/png": "[encoded data removed]",
      "text/plain": [
       "<Figure size 432x288 with 1 Axes>"
      ]
     },
     "metadata": {
      "needs_background": "light"
     },
     "output_type": "display_data"
    },
    {
     "data": {
      "image/png": "[encoded data removed]",
      "text/plain": [
       "<Figure size 432x288 with 1 Axes>"
      ]
     },
     "metadata": {
      "needs_background": "light"
     },
     "output_type": "display_data"
    }
   ],
   "source": [
    "plot_histograms(blackscholes_histories)"
   ]
  },
  {
   "cell_type": "code",
   "execution_count": null,
   "metadata": {},
   "outputs": [],
   "source": []
  }
 ],
 "metadata": {
  "kernelspec": {
   "display_name": "Python 3",
   "language": "python",
   "name": "python3"
  },
  "language_info": {
   "codemirror_mode": {
    "name": "ipython",
    "version": 3
   },
   "file_extension": ".py",
   "mimetype": "text/x-python",
   "name": "python",
   "nbconvert_exporter": "python",
   "pygments_lexer": "ipython3",
   "version": "3.7.1"
  }
 },
 "nbformat": 4,
 "nbformat_minor": 2
}
