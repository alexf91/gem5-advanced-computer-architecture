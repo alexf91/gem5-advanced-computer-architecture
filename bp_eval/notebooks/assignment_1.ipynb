{
 "cells": [
  {
   "cell_type": "code",
   "execution_count": 1,
   "metadata": {},
   "outputs": [],
   "source": [
    "from bpredict import *"
   ]
  },
  {
   "cell_type": "code",
   "execution_count": 16,
   "metadata": {},
   "outputs": [],
   "source": [
    "def print_stats(runner):\n",
    "    assert len(runner.stats) == 3\n",
    "    \n",
    "    sim_seconds = runner.stats[1].find('sim_seconds')[0]\n",
    "    direct_ctrl = runner.stats[1].find('num_direct_control_insts')[0]\n",
    "    indirect_ctrl = runner.stats[1].find('num_indirect_control_insts')[0]\n",
    "\n",
    "    print(sim_seconds.name, sim_seconds.values[0])\n",
    "    print(direct_ctrl.name, direct_ctrl.values[0])\n",
    "    print(indirect_ctrl.name, indirect_ctrl.values[0])\n",
    "    print('direct_percentage', direct_ctrl.values[0] / (direct_ctrl.values[0] + indirect_ctrl.values[0]))\n",
    "    print()"
   ]
  },
  {
   "cell_type": "markdown",
   "metadata": {},
   "source": [
    "# blackscholes"
   ]
  },
  {
   "cell_type": "code",
   "execution_count": 3,
   "metadata": {},
   "outputs": [],
   "source": [
    "# Run the blackscholes benchmark\n",
    "script = '\\n'.join([\n",
    "    'cd /parsec/install/bin',\n",
    "    './blackscholes 1 /parsec/install/inputs/blackscholes/in_4K.txt /dev/null',\n",
    "    '/sbin/m5 exit',\n",
    "])\n",
    "\n",
    "blackscholes_runner = FullSystemRunner(scriptcode=script, cputype=CPUType.ATOMIC_SIMPLE_CPU)\n",
    "blackscholes_runner.run()"
   ]
  },
  {
   "cell_type": "code",
   "execution_count": 17,
   "metadata": {},
   "outputs": [
    {
     "name": "stdout",
     "output_type": "stream",
     "text": [
      "sim_seconds 0.426906\n",
      "system.cpu.num_direct_control_insts 65518553\n",
      "system.cpu.num_indirect_control_insts 15513766\n",
      "direct_percentage 0.8085484138742222\n",
      "\n"
     ]
    }
   ],
   "source": [
    "print_stats(blackscholes_runner)"
   ]
  },
  {
   "cell_type": "markdown",
   "metadata": {},
   "source": [
    "# canneal"
   ]
  },
  {
   "cell_type": "code",
   "execution_count": 5,
   "metadata": {},
   "outputs": [],
   "source": [
    "# Run the canneal benchmark\n",
    "script = '\\n'.join([\n",
    "    'cd /parsec/install/bin',\n",
    "    './canneal 1 10000 5 /parsec/install/inputs/canneal/100.nets',\n",
    "    '/sbin/m5 exit',\n",
    "])\n",
    "\n",
    "canneal_runner = FullSystemRunner(scriptcode=script, cputype=CPUType.ATOMIC_SIMPLE_CPU)\n",
    "canneal_runner.run()"
   ]
  },
  {
   "cell_type": "code",
   "execution_count": 18,
   "metadata": {},
   "outputs": [
    {
     "name": "stdout",
     "output_type": "stream",
     "text": [
      "sim_seconds 0.003706\n",
      "system.cpu.num_direct_control_insts 597257\n",
      "system.cpu.num_indirect_control_insts 83718\n",
      "direct_percentage 0.8770615661367892\n",
      "\n"
     ]
    }
   ],
   "source": [
    "print_stats(canneal_runner)"
   ]
  },
  {
   "cell_type": "markdown",
   "metadata": {},
   "source": [
    "# streamcluster"
   ]
  },
  {
   "cell_type": "code",
   "execution_count": 7,
   "metadata": {},
   "outputs": [],
   "source": [
    "# Run the streamcluster benchmark\n",
    "script = '\\n'.join([\n",
    "    'cd /parsec/install/bin',\n",
    "    # usage: ./streamcluster k1 k2 d n chunksize clustersize infile outfile nproc\n",
    "    './streamcluster 10 20 3 100 100 100 /dev/zero /dev/null 1',\n",
    "    '/sbin/m5 exit',\n",
    "])\n",
    "\n",
    "streamcluster_runner = FullSystemRunner(scriptcode=script, cputype=CPUType.ATOMIC_SIMPLE_CPU)\n",
    "streamcluster_runner.run()"
   ]
  },
  {
   "cell_type": "code",
   "execution_count": 19,
   "metadata": {},
   "outputs": [
    {
     "name": "stdout",
     "output_type": "stream",
     "text": [
      "sim_seconds 0.006714\n",
      "system.cpu.num_direct_control_insts 1603614\n",
      "system.cpu.num_indirect_control_insts 81902\n",
      "direct_percentage 0.9514083521010777\n",
      "\n"
     ]
    }
   ],
   "source": [
    "print_stats(streamcluster_runner)"
   ]
  },
  {
   "cell_type": "markdown",
   "metadata": {},
   "source": [
    "# dedup"
   ]
  },
  {
   "cell_type": "code",
   "execution_count": 9,
   "metadata": {},
   "outputs": [],
   "source": [
    "# Run the dedup benchmark\n",
    "script = '\\n'.join([\n",
    "    'cd /parsec/install/bin',\n",
    "    './dedup -i /parsec/install/inputs/dedup/test.dat -o /dev/null',\n",
    "    '/sbin/m5 exit',\n",
    "])\n",
    "\n",
    "dedup_runner = FullSystemRunner(scriptcode=script, cputype=CPUType.ATOMIC_SIMPLE_CPU)\n",
    "dedup_runner.run()"
   ]
  },
  {
   "cell_type": "code",
   "execution_count": 20,
   "metadata": {},
   "outputs": [
    {
     "name": "stdout",
     "output_type": "stream",
     "text": [
      "sim_seconds 0.017002\n",
      "system.cpu.num_direct_control_insts 2217551\n",
      "system.cpu.num_indirect_control_insts 229530\n",
      "direct_percentage 0.9062025327318548\n",
      "\n"
     ]
    }
   ],
   "source": [
    "print_stats(dedup_runner)"
   ]
  },
  {
   "cell_type": "code",
   "execution_count": null,
   "metadata": {},
   "outputs": [],
   "source": []
  }
 ],
 "metadata": {
  "kernelspec": {
   "display_name": "Python 3",
   "language": "python",
   "name": "python3"
  },
  "language_info": {
   "codemirror_mode": {
    "name": "ipython",
    "version": 3
   },
   "file_extension": ".py",
   "mimetype": "text/x-python",
   "name": "python",
   "nbconvert_exporter": "python",
   "pygments_lexer": "ipython3",
   "version": "3.7.1"
  }
 },
 "nbformat": 4,
 "nbformat_minor": 2
}
