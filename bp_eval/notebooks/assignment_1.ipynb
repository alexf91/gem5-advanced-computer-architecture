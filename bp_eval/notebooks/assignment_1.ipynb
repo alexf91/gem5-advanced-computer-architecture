{
 "cells": [
  {
   "cell_type": "code",
   "execution_count": 1,
   "metadata": {},
   "outputs": [],
   "source": [
    "from bpredict import *"
   ]
  },
  {
   "cell_type": "code",
   "execution_count": 2,
   "metadata": {},
   "outputs": [],
   "source": [
    "def print_stats(runner):\n",
    "    insts_setup = runner.stats[0].find('sim_insts')[0]\n",
    "    insts_benchmark = runner.stats[1].find('sim_insts')[0]\n",
    "    print('setup_insts:    ', insts_setup.values[0])\n",
    "    print('benchmark_insts:', insts_benchmark.values[0] - insts_setup.values[0])\n",
    "\n",
    "    sim_seconds = runner.stats[1].find('sim_seconds')[0]\n",
    "    direct_ctrl = runner.stats[1].find('num_direct_control_insts')[0]\n",
    "    indirect_ctrl = runner.stats[1].find('num_indirect_control_insts')[0]\n",
    "\n",
    "    print(sim_seconds.name, sim_seconds.values[0])\n",
    "    print(direct_ctrl.name, direct_ctrl.values[0])\n",
    "    print(indirect_ctrl.name, indirect_ctrl.values[0])\n",
    "    print('direct_percentage', direct_ctrl.values[0] / (direct_ctrl.values[0] + indirect_ctrl.values[0]))\n",
    "    print()\n",
    "    \n",
    "RUN_INSTS = 100 * 10**6"
   ]
  },
  {
   "cell_type": "markdown",
   "metadata": {},
   "source": [
    "# blackscholes"
   ]
  },
  {
   "cell_type": "code",
   "execution_count": 3,
   "metadata": {},
   "outputs": [],
   "source": [
    "# Run the blackscholes benchmark\n",
    "script = '\\n'.join([\n",
    "    'cd /parsec/install/bin',\n",
    "    './blackscholes 1 /parsec/install/inputs/blackscholes/in_4K.txt /dev/null',\n",
    "    '/sbin/m5 exit',\n",
    "])\n",
    "\n",
    "INIT_INSTS = 149648136\n",
    "blackscholes_runner = FullSystemRunner(scriptcode=script, cputype=CPUType.ATOMIC_SIMPLE_CPU,\n",
    "                                       maxinsts=INIT_INSTS + RUN_INSTS)\n",
    "blackscholes_runner.run()"
   ]
  },
  {
   "cell_type": "code",
   "execution_count": 4,
   "metadata": {},
   "outputs": [
    {
     "name": "stdout",
     "output_type": "stream",
     "text": [
      "setup_insts:     149648136\n",
      "benchmark_insts: 100000001\n",
      "sim_seconds 0.05\n",
      "system.cpu.num_direct_control_insts 7674329\n",
      "system.cpu.num_indirect_control_insts 1817042\n",
      "direct_percentage 0.8085585317442548\n",
      "\n"
     ]
    }
   ],
   "source": [
    "print_stats(blackscholes_runner)"
   ]
  },
  {
   "cell_type": "markdown",
   "metadata": {},
   "source": [
    "# canneal"
   ]
  },
  {
   "cell_type": "code",
   "execution_count": 5,
   "metadata": {},
   "outputs": [],
   "source": [
    "# Run the canneal benchmark\n",
    "script = '\\n'.join([\n",
    "    'cd /parsec/install/bin',\n",
    "    # usage: ./canneal NTHREADS NSWAPS TEMP NETLIST [NSTEPS]\n",
    "    './canneal 1 10000 2000 /parsec/install/inputs/canneal/100000.nets 32',\n",
    "    '/sbin/m5 exit',\n",
    "])\n",
    "\n",
    "INIT_INSTS = 2030400132\n",
    "canneal_runner = FullSystemRunner(scriptcode=script, cputype=CPUType.ATOMIC_SIMPLE_CPU,\n",
    "                                  maxinsts=INIT_INSTS + RUN_INSTS)\n",
    "canneal_runner.run()"
   ]
  },
  {
   "cell_type": "code",
   "execution_count": 6,
   "metadata": {},
   "outputs": [
    {
     "name": "stdout",
     "output_type": "stream",
     "text": [
      "[Entry(name='sim_insts', values=(2030400132,), description='Number of instructions simulated')]\n",
      "setup_insts:     2030400132\n",
      "benchmark_insts: 100000001\n",
      "sim_seconds 0.050722\n",
      "system.cpu.num_direct_control_insts 7720810\n",
      "system.cpu.num_indirect_control_insts 681570\n",
      "direct_percentage 0.9188836972381634\n",
      "\n"
     ]
    }
   ],
   "source": [
    "print_stats(canneal_runner)"
   ]
  },
  {
   "cell_type": "markdown",
   "metadata": {},
   "source": [
    "# streamcluster"
   ]
  },
  {
   "cell_type": "code",
   "execution_count": 7,
   "metadata": {},
   "outputs": [],
   "source": [
    "# Run the streamcluster benchmark\n",
    "script = '\\n'.join([\n",
    "    'cd /parsec/install/bin',\n",
    "    # usage: ./streamcluster k1 k2 d n chunksize clustersize infile outfile nproc\n",
    "    './streamcluster 10 20 32 4096 4096 1000 none /dev/null 1',\n",
    "    '/sbin/m5 exit',\n",
    "])\n",
    "\n",
    "INIT_INSTS = 96937392\n",
    "streamcluster_runner = FullSystemRunner(scriptcode=script, cputype=CPUType.ATOMIC_SIMPLE_CPU,\n",
    "                                        maxinsts=INIT_INSTS + RUN_INSTS)\n",
    "streamcluster_runner.run()"
   ]
  },
  {
   "cell_type": "code",
   "execution_count": 8,
   "metadata": {},
   "outputs": [
    {
     "name": "stdout",
     "output_type": "stream",
     "text": [
      "setup_insts:     96961955\n",
      "benchmark_insts: 99975438\n",
      "sim_seconds 0.05002\n",
      "system.cpu.num_direct_control_insts 6400323\n",
      "system.cpu.num_indirect_control_insts 537124\n",
      "direct_percentage 0.9225761292302486\n",
      "\n"
     ]
    }
   ],
   "source": [
    "print_stats(streamcluster_runner)"
   ]
  },
  {
   "cell_type": "markdown",
   "metadata": {},
   "source": [
    "# dedup"
   ]
  },
  {
   "cell_type": "code",
   "execution_count": 9,
   "metadata": {},
   "outputs": [],
   "source": [
    "# Run the dedup benchmark\n",
    "script = '\\n'.join([\n",
    "    'cd /parsec/install/bin',\n",
    "    './dedup -c -t 1 -i /parsec/install/inputs/dedup/hamlet.dat -o /dev/null',\n",
    "    '/sbin/m5 exit',\n",
    "])\n",
    "\n",
    "INIT_INSTS = 105959907\n",
    "dedup_runner = FullSystemRunner(scriptcode=script, cputype=CPUType.ATOMIC_SIMPLE_CPU,\n",
    "                                maxinsts=INIT_INSTS + RUN_INSTS)\n",
    "dedup_runner.run()"
   ]
  },
  {
   "cell_type": "code",
   "execution_count": 10,
   "metadata": {},
   "outputs": [
    {
     "name": "stdout",
     "output_type": "stream",
     "text": [
      "setup_insts:     105959907\n",
      "benchmark_insts: 100000001\n",
      "sim_seconds 0.050046\n",
      "system.cpu.num_direct_control_insts 5484853\n",
      "system.cpu.num_indirect_control_insts 290114\n",
      "direct_percentage 0.9497635224582236\n",
      "\n"
     ]
    }
   ],
   "source": [
    "print_stats(dedup_runner)"
   ]
  },
  {
   "cell_type": "code",
   "execution_count": null,
   "metadata": {},
   "outputs": [],
   "source": []
  }
 ],
 "metadata": {
  "kernelspec": {
   "display_name": "Python 3",
   "language": "python",
   "name": "python3"
  },
  "language_info": {
   "codemirror_mode": {
    "name": "ipython",
    "version": 3
   },
   "file_extension": ".py",
   "mimetype": "text/x-python",
   "name": "python",
   "nbconvert_exporter": "python",
   "pygments_lexer": "ipython3",
   "version": "3.7.1"
  }
 },
 "nbformat": 4,
 "nbformat_minor": 2
}
